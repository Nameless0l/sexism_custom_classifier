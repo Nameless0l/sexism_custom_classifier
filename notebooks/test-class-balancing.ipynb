{
 "cells": [
  {
   "cell_type": "code",
   "execution_count": 6,
   "metadata": {},
   "outputs": [
    {
     "name": "stdout",
     "output_type": "stream",
     "text": [
      "===== BEFORE DOWNSAMPLE\n",
      "\n",
      "           0\n",
      "sexist      \n",
      "0       1082\n",
      "1        328\n",
      "\n",
      "                     0\n",
      "dataset    sexist     \n",
      "benevolent 0       346\n",
      "           1       128\n",
      "hostile    0       277\n",
      "           1       195\n",
      "other      0       459\n",
      "           1         5\n",
      "\n",
      "===== AFTER DOWNSAMPLE\n",
      "\n",
      "          0\n",
      "sexist     \n",
      "0       328\n",
      "1       328\n",
      "\n",
      "                     0\n",
      "dataset    sexist     \n",
      "benevolent 0       128\n",
      "           1       128\n",
      "hostile    0       195\n",
      "           1       195\n",
      "other      0         5\n",
      "           1         5\n",
      "\n"
     ]
    }
   ],
   "source": [
    "from src.data.make_dataset import MakeDataset\n",
    "from src.enums import *\n",
    "\n",
    "md=MakeDataset()\n",
    "\n",
    "#read data\n",
    "data = md.read_data('../data/raw/all_data_augmented.csv')\n",
    "\n",
    "#split\n",
    "train_modified, test_modified= False, False\n",
    "train_domain_names=[Dataset.BENEVOLENT, Dataset.HOSTILE, Dataset.OTHER]\n",
    "test_domain_names=[Dataset.BENEVOLENT, Dataset.HOSTILE, Dataset.OTHER]\n",
    "X_train, X_test=md.get_train_and_test_sets(data, train_domain_names, test_domain_names, train_modified, test_modified)\n",
    "      \n",
    "#balance\n",
    "ds1=md.downsample_test(X_train, 'v2')"
   ]
  },
  {
   "cell_type": "code",
   "execution_count": 7,
   "metadata": {},
   "outputs": [
    {
     "name": "stdout",
     "output_type": "stream",
     "text": [
      "===== BEFORE DOWNSAMPLE\n",
      "\n",
      "           0\n",
      "sexist      \n",
      "0       1082\n",
      "1        328\n",
      "\n",
      "                     0\n",
      "dataset    sexist     \n",
      "benevolent 0       346\n",
      "           1       128\n",
      "hostile    0       277\n",
      "           1       195\n",
      "other      0       459\n",
      "           1         5\n",
      "\n",
      "===== AFTER DOWNSAMPLE\n",
      "\n",
      "          0\n",
      "sexist     \n",
      "0       328\n",
      "1       328\n",
      "\n",
      "                     0\n",
      "dataset    sexist     \n",
      "benevolent 0       116\n",
      "           1       128\n",
      "hostile    0        86\n",
      "           1       195\n",
      "other      0       126\n",
      "           1         5\n",
      "\n"
     ]
    }
   ],
   "source": [
    "ds2=md.downsample_test(X_train, 'v1')"
   ]
  },
  {
   "cell_type": "code",
   "execution_count": null,
   "metadata": {},
   "outputs": [],
   "source": []
  }
 ],
 "metadata": {
  "kernelspec": {
   "display_name": "Python [conda env:thesis_py_3]",
   "language": "python",
   "name": "conda-env-thesis_py_3-py"
  },
  "language_info": {
   "codemirror_mode": {
    "name": "ipython",
    "version": 3
   },
   "file_extension": ".py",
   "mimetype": "text/x-python",
   "name": "python",
   "nbconvert_exporter": "python",
   "pygments_lexer": "ipython3",
   "version": "3.8.5"
  }
 },
 "nbformat": 4,
 "nbformat_minor": 2
}
