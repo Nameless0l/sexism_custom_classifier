{
 "cells": [
  {
   "cell_type": "markdown",
   "metadata": {},
   "source": [
    "### Task 5.2 Train LR on top of the combination of the features (by using Original data)"
   ]
  },
  {
   "cell_type": "markdown",
   "metadata": {},
   "source": [
    "#### 1. Sentiment, N-gram and Type Dependency Feature sets"
   ]
  },
  {
   "cell_type": "code",
   "execution_count": null,
   "metadata": {},
   "outputs": [],
   "source": [
    "from src.enums import *\n",
    "from src.run_pipeline import RunPipeline\n",
    "import pandas as pd\n",
    "\n",
    "train_domain=Domain.BHO\n",
    "test_domain=Domain.BHO\n",
    "model=Model.LR\n",
    "features = [Feature.SENTIMENT, Feature.NGRAM, Feature.TYPEDEPENDENCY,]\n",
    "\n",
    "param_grid = {\n",
    "    'features__sentiment__feature_extraction__score_names': [['neg', 'compound'], ],\n",
    "    'features__ngram__feature_extraction__ngram_range': [(1, 2),],\n",
    "    'features__ngram__feature_selection__model': [model, ],\n",
    "    'features__type_dependency__feature_selection__model': [model, ],\n",
    "    'features__type_dependency__feature_extraction__model_path': ['/Users/ezgidaldal/sexism_custom_classifier/stanford-corenlp-4.1.0', ],  \n",
    "    'model__C': [1],  #[0.001,0.01,0.1,1,10,100],\n",
    "    'model__penalty': ['l2'],  #['l1', 'l2']\n",
    "}\n",
    "\n",
    "rp=RunPipeline(train_domain, test_domain, model, features, param_grid, iteration_count=1)\n",
    "rp.run()"
   ]
  }
 ],
 "metadata": {
  "kernelspec": {
   "display_name": "Python [conda env:thesis_py_3]",
   "language": "python",
   "name": "conda-env-thesis_py_3-py"
  },
  "language_info": {
   "codemirror_mode": {
    "name": "ipython",
    "version": 3
   },
   "file_extension": ".py",
   "mimetype": "text/x-python",
   "name": "python",
   "nbconvert_exporter": "python",
   "pygments_lexer": "ipython3",
   "version": "3.8.5"
  }
 },
 "nbformat": 4,
 "nbformat_minor": 2
}
