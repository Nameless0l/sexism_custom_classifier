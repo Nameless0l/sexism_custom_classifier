{
 "cells": [
  {
   "cell_type": "code",
   "execution_count": null,
   "metadata": {},
   "outputs": [],
   "source": [
    "from src.run_pipeline import RunPipeline\n",
    "\n",
    "rp=RunPipeline()\n",
    "file_name=rp.run_experiments_research_question_1()\n",
    "\n",
    "import pickle\n",
    "import pandas as pd\n",
    "\n",
    "results_df=[]\n",
    "with open(file_name, 'rb') as f:\n",
    "    results_df = pickle.load(f)\n",
    "    \n",
    "results_df"
   ]
  }
 ],
 "metadata": {
  "kernelspec": {
   "display_name": "Python [conda env:thesis2_py3]",
   "language": "python",
   "name": "conda-env-thesis2_py3-py"
  },
  "language_info": {
   "codemirror_mode": {
    "name": "ipython",
    "version": 3
   },
   "file_extension": ".py",
   "mimetype": "text/x-python",
   "name": "python",
   "nbconvert_exporter": "python",
   "pygments_lexer": "ipython3",
   "version": "3.8.5"
  }
 },
 "nbformat": 4,
 "nbformat_minor": 2
}
