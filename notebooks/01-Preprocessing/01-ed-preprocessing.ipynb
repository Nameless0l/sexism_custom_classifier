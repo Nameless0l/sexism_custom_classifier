{
 "cells": [
  {
   "cell_type": "markdown",
   "metadata": {},
   "source": [
    "### Imports"
   ]
  },
  {
   "cell_type": "code",
   "execution_count": 1,
   "metadata": {},
   "outputs": [],
   "source": [
    "from src.data.make_dataset import MakeDataset\n",
    "from src.enums import Model, Domain"
   ]
  },
  {
   "cell_type": "markdown",
   "metadata": {},
   "source": [
    "### Read Data"
   ]
  },
  {
   "cell_type": "code",
   "execution_count": 2,
   "metadata": {},
   "outputs": [],
   "source": [
    "m = MakeDataset()\n",
    "data = m.read_data()"
   ]
  },
  {
   "cell_type": "markdown",
   "metadata": {},
   "source": [
    "### Preprocess data for each feature (Sentiment, Ngram, Type Dependency and Bert Document Embedding)"
   ]
  },
  {
   "cell_type": "code",
   "execution_count": 3,
   "metadata": {},
   "outputs": [
    {
     "name": "stdout",
     "output_type": "stream",
     "text": [
      "\n",
      "STARTED: Preprocessing sentiment started.\n",
      "\n",
      "Dropping NaN values...\n",
      "Removing URLs...\n",
      "Saved preprocessed data: ../../data/processed/preprocessed_data_sentiment.csv\n",
      "\n",
      "STARTED: Preprocessing ngram started.\n",
      "\n",
      "Dropping NaN values...\n",
      "Cleaning URLs, Mentions, Hastags, Reserved, Emojis, Smilies, Numbers, RT, new lines, contractions, punctuations, repeating chars, tokenizing, stemming...\n",
      "Dropping NaN values...\n",
      "Saved preprocessed data: ../../data/processed/preprocessed_data_ngram.csv\n",
      "\n",
      "STARTED: Preprocessing type dependency started.\n",
      "\n",
      "Saved preprocessed data: ../../data/processed/preprocessed_data_type_dependency.csv\n",
      "\n",
      "STARTED: Preprocessing bert document embeddings started.\n",
      "\n",
      "Saved preprocessed data: ../../data/processed/preprocessed_data_bert_doc_emb.csv\n"
     ]
    }
   ],
   "source": [
    "m.preprocess_sentiment(data)\n",
    "m.preprocess_ngram(data)\n",
    "m.preprocess_type_dependency(data)\n",
    "m.preprocess_bert_doc_emb(data)"
   ]
  },
  {
   "cell_type": "code",
   "execution_count": null,
   "metadata": {},
   "outputs": [],
   "source": []
  }
 ],
 "metadata": {
  "kernelspec": {
   "display_name": "Python [conda env:thesis_py_3]",
   "language": "python",
   "name": "conda-env-thesis_py_3-py"
  },
  "language_info": {
   "codemirror_mode": {
    "name": "ipython",
    "version": 3
   },
   "file_extension": ".py",
   "mimetype": "text/x-python",
   "name": "python",
   "nbconvert_exporter": "python",
   "pygments_lexer": "ipython3",
   "version": "3.8.5"
  }
 },
 "nbformat": 4,
 "nbformat_minor": 2
}
