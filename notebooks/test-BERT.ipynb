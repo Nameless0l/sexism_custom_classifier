{
 "cells": [
  {
   "cell_type": "code",
   "execution_count": null,
   "metadata": {},
   "outputs": [],
   "source": [
    "import pandas as pd\n",
    "pd.options.display.max_colwidth = 1000\n",
    "from src.data.make_dataset import MakeDataset\n",
    "from src.data.preprocessing.preprocess_bert_doc_emb import PreprocessBertDocEmb\n",
    "from src.feature_extraction.build_bert_doc_emb_features import BuildBERTDocumentEmbeddingsFeature\n",
    "\n",
    "make_dataset = MakeDataset()\n",
    "data = make_dataset.read_data('../data/raw/all_data_augmented.csv')\n",
    "\n",
    "data=data[data['of_id'].isnull()]\n",
    "data=data[data['dataset'].isin(['benevolent', 'hostile', 'other'])]\n",
    "\n",
    "data=data.head(3)\n",
    "pre=PreprocessBertDocEmb()\n",
    "preprocessed=list(pre.transform(data['text']))\n",
    "\n",
    "bf=BuildBERTDocumentEmbeddingsFeature()\n",
    "features=bf.extract_features(preprocessed)\n",
    "\n",
    "hidden_states = features[0]\n",
    "\n",
    "print (\"Number of batches:\", len(hidden_states), \"  (Last layers)\")\n",
    "layer_i = 0\n",
    "\n",
    "print (\"Number of tokens:\", len(hidden_states[layer_i]))\n",
    "batch_i = 0\n",
    "\n",
    "print (\"Number of hidden units:\", len(hidden_states[layer_i][batch_i]))\n",
    "token_i = 0\n",
    "\n",
    "print()\n",
    "\n",
    "hidden_states = features[1]\n",
    "\n",
    "print (\"Number of batches:\", len(hidden_states), \"  (Last layers)\")\n",
    "layer_i = 0\n",
    "\n",
    "print (\"Number of hidden units:\", len(hidden_states[layer_i]))\n",
    "batch_i = 0\n",
    "\n",
    "print()\n",
    "\n",
    "hidden_states = features[2]\n",
    "\n",
    "print (\"Number of layers:\", len(hidden_states), \"  (initial embeddings + 12 BERT layers)\")\n",
    "layer_i = 0\n",
    "\n",
    "print (\"Number of batches:\", len(hidden_states[layer_i]))\n",
    "batch_i = 0\n",
    "\n",
    "print (\"Number of tokens:\", len(hidden_states[layer_i][batch_i]))\n",
    "token_i = 0\n",
    "\n",
    "print (\"Number of hidden units:\", len(hidden_states[layer_i][batch_i][token_i]))"
   ]
  }
 ],
 "metadata": {
  "kernelspec": {
   "display_name": "Python [conda env:thesis_py_3]",
   "language": "python",
   "name": "conda-env-thesis_py_3-py"
  },
  "language_info": {
   "codemirror_mode": {
    "name": "ipython",
    "version": 3
   },
   "file_extension": ".py",
   "mimetype": "text/x-python",
   "name": "python",
   "nbconvert_exporter": "python",
   "pygments_lexer": "ipython3",
   "version": "3.8.5"
  }
 },
 "nbformat": 4,
 "nbformat_minor": 2
}
