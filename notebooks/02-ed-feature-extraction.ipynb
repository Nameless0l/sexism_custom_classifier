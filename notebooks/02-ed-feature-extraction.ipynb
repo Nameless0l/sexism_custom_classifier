{
 "cells": [
  {
   "cell_type": "code",
   "execution_count": 2,
   "metadata": {},
   "outputs": [],
   "source": [
    "from src import utilities as u\n",
    "from src.data import prepare_data_domain as pre\n",
    "from src.features import build_sentiment_features as s_f\n",
    "from src.features import build_ngram_features as ng_f\n",
    "from src.features import build_type_dependency_features as td_f\n",
    "from src.features import build_bert_doc_emb_features as bde_f\n",
    "\n",
    "import pandas as pd\n",
    "pd.options.display.max_colwidth = 206"
   ]
  },
  {
   "cell_type": "markdown",
   "metadata": {},
   "source": [
    "# 1.Sentiment Features"
   ]
  },
  {
   "cell_type": "markdown",
   "metadata": {},
   "source": [
    "### Read Preprocessed Data"
   ]
  },
  {
   "cell_type": "code",
   "execution_count": 3,
   "metadata": {},
   "outputs": [
    {
     "data": {
      "text/plain": [
       "(6321, 7)"
      ]
     },
     "execution_count": 3,
     "metadata": {},
     "output_type": "execute_result"
    }
   ],
   "source": [
    "pre_data_sentiment_full_path = '../data/processed/all_data_preprocessed_for_sentiment.csv'\n",
    "df_pre_sentiment = u.read(pre_data_sentiment_full_path)\n",
    "df_pre_sentiment.shape"
   ]
  },
  {
   "cell_type": "markdown",
   "metadata": {},
   "source": [
    "### Prepare Original Data Domain"
   ]
  },
  {
   "cell_type": "code",
   "execution_count": 4,
   "metadata": {},
   "outputs": [
    {
     "data": {
      "text/plain": [
       "5"
      ]
     },
     "execution_count": 4,
     "metadata": {},
     "output_type": "execute_result"
    }
   ],
   "source": [
    "#select omnibus dataset (bhocs)\n",
    "original_data = df_pre_sentiment[df_pre_sentiment['of_id'].isnull()]\n",
    "\n",
    "X = original_data['text']\n",
    "y = original_data['sexist']\n",
    "\n",
    "pdd = pre.PrepareDataDomain()\n",
    "\n",
    "#Get split data dictionary that includes training and  test set. \n",
    "#Default params : \n",
    "#n_splits=5 : number of re-shuffling & splitting iterations \n",
    "#test_size=0.3 : the proportion of the dataset to include in the test split \n",
    "dict_sentiment = pdd.get_n_splits(X, y)\n",
    "len(dict_sentiment)"
   ]
  },
  {
   "cell_type": "markdown",
   "metadata": {},
   "source": [
    "### Build sentiment features"
   ]
  },
  {
   "cell_type": "code",
   "execution_count": 5,
   "metadata": {},
   "outputs": [
    {
     "name": "stdout",
     "output_type": "stream",
     "text": [
      "shape of train features : 2854\n",
      "shape of test features : 1224\n",
      "shape of train features : 2854\n",
      "shape of test features : 1224\n",
      "shape of train features : 2854\n",
      "shape of test features : 1224\n",
      "shape of train features : 2854\n",
      "shape of test features : 1224\n",
      "shape of train features : 2854\n",
      "shape of test features : 1224\n"
     ]
    }
   ],
   "source": [
    "fb_s = s_f.BuildSentimentFeature()\n",
    "for value in dict_sentiment.values():\n",
    "    X_train_ngrams, X_test_ngrams = fb_s.build_features(value['X_train'], value['X_test'])\n",
    "    #TODO: TRAIN"
   ]
  },
  {
   "cell_type": "markdown",
   "metadata": {},
   "source": [
    "# 2.Word N-grams Features"
   ]
  },
  {
   "cell_type": "markdown",
   "metadata": {},
   "source": [
    "### Read Preprocessed Data"
   ]
  },
  {
   "cell_type": "code",
   "execution_count": 6,
   "metadata": {},
   "outputs": [
    {
     "data": {
      "text/plain": [
       "(6321, 7)"
      ]
     },
     "execution_count": 6,
     "metadata": {},
     "output_type": "execute_result"
    }
   ],
   "source": [
    "pre_data_ngrams_full_path = '../data/processed/all_data_preprocessed_for_ngrams.csv'\n",
    "df_pre_ngrams = u.read(pre_data_ngrams_full_path)\n",
    "df_pre_ngrams.shape"
   ]
  },
  {
   "cell_type": "markdown",
   "metadata": {},
   "source": [
    "### Prepare Original Data Domain"
   ]
  },
  {
   "cell_type": "code",
   "execution_count": 7,
   "metadata": {},
   "outputs": [
    {
     "data": {
      "text/plain": [
       "5"
      ]
     },
     "execution_count": 7,
     "metadata": {},
     "output_type": "execute_result"
    }
   ],
   "source": [
    "#select omnibus dataset (bhocs)\n",
    "original_data = df_pre_ngrams[df_pre_ngrams['of_id'].isnull()]\n",
    "\n",
    "X = original_data['text']\n",
    "y = original_data['sexist']\n",
    "\n",
    "#number of re-shuffling & splitting iterations : n_splits=5 \n",
    "#the proportion of the dataset to include in the test split : test_size=0.3\n",
    "#Get split data dictionary that includes training and  test set \n",
    "pdd = pre.PrepareDataDomain()\n",
    "data_dict = pdd.get_n_splits(X, y)\n",
    "len(data_dict)"
   ]
  },
  {
   "cell_type": "markdown",
   "metadata": {},
   "source": [
    "### Build n-gram features"
   ]
  },
  {
   "cell_type": "code",
   "execution_count": 8,
   "metadata": {},
   "outputs": [
    {
     "name": "stdout",
     "output_type": "stream",
     "text": [
      "shape of train features : (2854, 25199)\n",
      "shape of test features : (1224, 25199)\n",
      "shape of train features : (2854, 25117)\n",
      "shape of test features : (1224, 25117)\n",
      "shape of train features : (2854, 25230)\n",
      "shape of test features : (1224, 25230)\n",
      "shape of train features : (2854, 25312)\n",
      "shape of test features : (1224, 25312)\n",
      "shape of train features : (2854, 25089)\n",
      "shape of test features : (1224, 25089)\n"
     ]
    }
   ],
   "source": [
    "fb_ng = ng_f.BuildNgramFeature(ngram_range=(1,2))\n",
    "for value in data_dict.values():\n",
    "    X_train_ngrams, X_test_ngrams = fb_ng.build_features(value['X_train'], value['X_test'])\n",
    "    #TODO: TRAIN"
   ]
  },
  {
   "cell_type": "markdown",
   "metadata": {},
   "source": [
    "# 3.Type Dependency Features"
   ]
  },
  {
   "cell_type": "code",
   "execution_count": 9,
   "metadata": {},
   "outputs": [],
   "source": [
    "#TODO"
   ]
  },
  {
   "cell_type": "markdown",
   "metadata": {},
   "source": [
    "# 4.BERT Document Embeddings Features"
   ]
  },
  {
   "cell_type": "code",
   "execution_count": 10,
   "metadata": {},
   "outputs": [],
   "source": [
    "#TODO"
   ]
  }
 ],
 "metadata": {
  "kernelspec": {
   "display_name": "Python [conda env:py3_thesis]",
   "language": "python",
   "name": "conda-env-py3_thesis-py"
  },
  "language_info": {
   "codemirror_mode": {
    "name": "ipython",
    "version": 3
   },
   "file_extension": ".py",
   "mimetype": "text/x-python",
   "name": "python",
   "nbconvert_exporter": "python",
   "pygments_lexer": "ipython3",
   "version": "3.8.3"
  }
 },
 "nbformat": 4,
 "nbformat_minor": 2
}
