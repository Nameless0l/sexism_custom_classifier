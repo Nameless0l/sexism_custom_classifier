{
 "cells": [
  {
   "cell_type": "markdown",
   "metadata": {},
   "source": [
    "### Imports"
   ]
  },
  {
   "cell_type": "code",
   "execution_count": 1,
   "metadata": {},
   "outputs": [],
   "source": [
    "from src.data import make_dataset as md\n",
    "import pandas as pd\n",
    "pd.options.display.max_colwidth = 206"
   ]
  },
  {
   "cell_type": "markdown",
   "metadata": {},
   "source": [
    "### Read Data"
   ]
  },
  {
   "cell_type": "code",
   "execution_count": 2,
   "metadata": {},
   "outputs": [],
   "source": [
    "data_full_path = '../data/raw/all_data.csv'\n",
    "df = pd.read_csv(data_full_path, delimiter='\\t')\n",
    "\n",
    "project_path = 'C:/Users/dince/Desktop/elif_thesis/master_thesis/'\n",
    "make_d = md.MakeDataset(df, project_path)"
   ]
  },
  {
   "cell_type": "markdown",
   "metadata": {},
   "source": [
    "### Preprocess Data For Sentiment"
   ]
  },
  {
   "cell_type": "code",
   "execution_count": 3,
   "metadata": {},
   "outputs": [
    {
     "name": "stdout",
     "output_type": "stream",
     "text": [
      "Dropping NaN values...\n",
      "Saving preprocessed file...\n",
      "Finished.\n",
      "Time Elapsed in minutes for the function 'make_dataset_for_sentiment' is 0.00\n"
     ]
    }
   ],
   "source": [
    "make_d.make_dataset_for_sentiment()"
   ]
  },
  {
   "cell_type": "markdown",
   "metadata": {},
   "source": [
    "### Preprocess Data For Ngrams"
   ]
  },
  {
   "cell_type": "code",
   "execution_count": 4,
   "metadata": {},
   "outputs": [
    {
     "name": "stdout",
     "output_type": "stream",
     "text": [
      "Dropping NaN values...\n",
      "Cleaning URLs, Mentions, Hastags, Reserved, Emojis, Smilies, Numbers, RT, new lines, contractions, punctuations, repeating chars...\n",
      "Tokenizing...\n",
      "Stemming...\n",
      "Saving preprocessed file...\n",
      "Finished.\n",
      "Time Elapsed in minutes for the function 'make_dataset_for_ngrams' is 2.95\n"
     ]
    }
   ],
   "source": [
    "make_d.make_dataset_for_ngrams()"
   ]
  },
  {
   "cell_type": "code",
   "execution_count": null,
   "metadata": {},
   "outputs": [],
   "source": []
  }
 ],
 "metadata": {
  "kernelspec": {
   "display_name": "Python [conda env:py3_thesis]",
   "language": "python",
   "name": "conda-env-py3_thesis-py"
  },
  "language_info": {
   "codemirror_mode": {
    "name": "ipython",
    "version": 3
   },
   "file_extension": ".py",
   "mimetype": "text/x-python",
   "name": "python",
   "nbconvert_exporter": "python",
   "pygments_lexer": "ipython3",
   "version": "3.8.3"
  }
 },
 "nbformat": 4,
 "nbformat_minor": 2
}
