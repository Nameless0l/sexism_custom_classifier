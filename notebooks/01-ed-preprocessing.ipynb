{
 "cells": [
  {
   "cell_type": "markdown",
   "metadata": {},
   "source": [
    "### Preprocess data for each feature (Sentiment, Ngram, Type Dependency and Bert Document Embedding)"
   ]
  },
  {
   "cell_type": "code",
   "execution_count": 1,
   "metadata": {},
   "outputs": [
    {
     "name": "stdout",
     "output_type": "stream",
     "text": [
      "\n",
      "STARTED: Preprocessing sentiment started.\n",
      "\n",
      "Dropping NaN values...\n",
      "Cleaning URLs, Mentions, Hastags, RT, new lines, contractions\n",
      "Dropping NaN values...\n",
      "Saved preprocessed data: ../data/processed/preprocessed_data_sentiment.csv\n",
      "\n",
      "STARTED: Preprocessing ngram started.\n",
      "\n",
      "Dropping NaN values...\n",
      "Cleaning URLs, Mentions, Hastags, Reserved, Emojis, Smilies, Numbers, RT, new lines, contractions, punctuations, repeating chars, tokenizing, stemming...\n",
      "Dropping NaN values...\n",
      "Saved preprocessed data: ../data/processed/preprocessed_data_ngram.csv\n",
      "\n",
      "STARTED: Preprocessing type dependency started.\n",
      "\n",
      "Dropping NaN values...\n",
      "Cleaning URLs, Mentions, Hastags, Reserved, Emojis, Smilies, RT, new lines, contractions, repeating chars...\n",
      "Dropping NaN values...\n",
      "Saved preprocessed data: ../data/processed/preprocessed_data_type_dependency.csv\n"
     ]
    }
   ],
   "source": [
    "#src module\n",
    "from src.enums import Feature\n",
    "from src.run_preprocessing import RunPreprocessing\n",
    "\n",
    "features = [Feature.SENTIMENT, Feature.NGRAM, Feature.TYPEDEPENDENCY]\n",
    "RunPreprocessing().run(features)"
   ]
  },
  {
   "cell_type": "code",
   "execution_count": null,
   "metadata": {},
   "outputs": [],
   "source": []
  }
 ],
 "metadata": {
  "kernelspec": {
   "display_name": "Python [conda env:thesis_py_3]",
   "language": "python",
   "name": "conda-env-thesis_py_3-py"
  },
  "language_info": {
   "codemirror_mode": {
    "name": "ipython",
    "version": 3
   },
   "file_extension": ".py",
   "mimetype": "text/x-python",
   "name": "python",
   "nbconvert_exporter": "python",
   "pygments_lexer": "ipython3",
   "version": "3.8.5"
  }
 },
 "nbformat": 4,
 "nbformat_minor": 2
}
