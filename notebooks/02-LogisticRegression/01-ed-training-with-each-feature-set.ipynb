{
 "cells": [
  {
   "cell_type": "markdown",
   "metadata": {},
   "source": [
    "### Task 5.1 Train LR on top of each feature set (by using Original data - bhocs)"
   ]
  },
  {
   "cell_type": "code",
   "execution_count": 2,
   "metadata": {},
   "outputs": [],
   "source": [
    "from src.enums import *\n",
    "from src.run_pipeline import RunPipeline\n",
    "import pandas as pd\n",
    "\n",
    "train_domain=Domain.BHOCS\n",
    "test_domain=Domain.BHOCS\n",
    "model=Model.LR\n",
    "\n",
    "param_grid = {\n",
    "    ##LR\n",
    "    'model__C': [0.001,0.01,0.1,1,10,100],\n",
    "    'model__penalty': ['l2']\n",
    "}"
   ]
  },
  {
   "cell_type": "markdown",
   "metadata": {},
   "source": [
    "#### 1. Sentiment Feature set"
   ]
  },
  {
   "cell_type": "code",
   "execution_count": 2,
   "metadata": {},
   "outputs": [
    {
     "name": "stdout",
     "output_type": "stream",
     "text": [
      "f1_score 0.3607924921793535\n",
      "grid_search Best score: 0.564\n",
      "===============================\n",
      "f1_score 0.3607924921793535\n",
      "grid_search Best score: 0.564\n",
      "===============================\n",
      "f1_score 0.3607924921793535\n",
      "grid_search Best score: 0.564\n",
      "===============================\n",
      "f1_score 0.3607924921793535\n",
      "grid_search Best score: 0.564\n",
      "===============================\n",
      "f1_score 0.3607924921793535\n",
      "grid_search Best score: 0.564\n",
      "===============================\n",
      "FUNCTION: run TIME ELAPSED : 0.11\n"
     ]
    }
   ],
   "source": [
    "#Results are similar for other sentiment scores.\n",
    "features={ Feature.SENTIMENT: { Parameter.Sentiment.SCORE_NAMES: ['neu', 'compound'] }, }\n",
    "\n",
    "rp=RunPipeline(train_domain, test_domain, model, features, param_grid)\n",
    "grid_searches=rp.run()"
   ]
  },
  {
   "cell_type": "markdown",
   "metadata": {},
   "source": [
    "#### 2. Ngram Feature set"
   ]
  },
  {
   "cell_type": "code",
   "execution_count": 3,
   "metadata": {
    "scrolled": true
   },
   "outputs": [
    {
     "name": "stdout",
     "output_type": "stream",
     "text": [
      "1. Train LR on top of sentiment feature set (by using Original data - bhocs)\n",
      "fit SelectFeatures start x.shape (2852, 4258) y.shape (2852,)\n",
      "fit SelectFeatures end == selector.support_.shape (4258,) selected features count 2221\n",
      "f1_score 0.7882817731259867\n",
      "grid_search Best score: 0.695\n",
      "===============================\n",
      "fit SelectFeatures start x.shape (2852, 4202) y.shape (2852,)\n",
      "fit SelectFeatures end == selector.support_.shape (4202,) selected features count 1605\n",
      "f1_score 0.7800957312652266\n",
      "grid_search Best score: 0.689\n",
      "===============================\n",
      "fit SelectFeatures start x.shape (2852, 4268) y.shape (2852,)\n",
      "fit SelectFeatures end == selector.support_.shape (4268,) selected features count 2160\n",
      "f1_score 0.7611157639256843\n",
      "grid_search Best score: 0.697\n",
      "===============================\n",
      "fit SelectFeatures start x.shape (2852, 4267) y.shape (2852,)\n",
      "fit SelectFeatures end == selector.support_.shape (4267,) selected features count 1840\n",
      "f1_score 0.7777940694309531\n",
      "grid_search Best score: 0.704\n",
      "===============================\n",
      "fit SelectFeatures start x.shape (2852, 4267) y.shape (2852,)\n",
      "fit SelectFeatures end == selector.support_.shape (4267,) selected features count 113\n",
      "f1_score 0.7679387051378064\n",
      "grid_search Best score: 0.700\n",
      "===============================\n",
      "FUNCTION: run TIME ELAPSED : 46.54\n"
     ]
    }
   ],
   "source": [
    "features={ Feature.NGRAM: { Parameter.Ngram.NGRAM_RANGE: (1,1) }, }\n",
    "\n",
    "param_grid = {\n",
    "    'model__C':[1],  #[0.001,0.01,0.1,1,10,100],\n",
    "    'model__penalty':['l2'],  #['l1', 'l2']\n",
    "}\n",
    "\n",
    "rp=RunPipeline(train_domain, test_domain, model, features, param_grid)\n",
    "data_dict, grid_searches=rp.run()\n",
    "\n",
    "# Lasted\" 46.54 Min  Highest f1_score: 0.788\n",
    "# Parameter.Ngram.NGRAM_RANGE: (1,1)\n",
    "# feature count from 4202 to 4268\n",
    "# Selected feature count from 113 to 2221"
   ]
  },
  {
   "cell_type": "code",
   "execution_count": null,
   "metadata": {},
   "outputs": [
    {
     "name": "stdout",
     "output_type": "stream",
     "text": [
      "fit SelectFeatures start x.shape (2852, 25170) y.shape (2852,)\n"
     ]
    }
   ],
   "source": [
    "features={ Feature.NGRAM: { Parameter.Ngram.NGRAM_RANGE: (1,2) }, }\n",
    "\n",
    "param_grid = {\n",
    "    ##LR\n",
    "    'model__C':[1],  #[0.001,0.01,0.1,1,10,100],\n",
    "    'model__penalty':['l2'],  #['l1', 'l2']\n",
    "}\n",
    "\n",
    "rp=RunPipeline(train_domain, test_domain, model, features, param_grid)\n",
    "data_dict, grid_searches=rp.run()\n",
    "\n",
    "# Lasted\" 46.54 Min  Highest f1_score: 0.788\n",
    "# Parameter.Ngram.NGRAM_RANGE: (1,2)\n",
    "# feature count from 4202 to 4268\n",
    "# Selected feature count from 113 to 2221"
   ]
  },
  {
   "cell_type": "markdown",
   "metadata": {},
   "source": [
    "#### 3. Type Dependency Feature set"
   ]
  },
  {
   "cell_type": "code",
   "execution_count": null,
   "metadata": {},
   "outputs": [],
   "source": [
    "features={\n",
    "    Feature.TYPEDEPENDENCY: {\n",
    "        Parameter.TypeDependency.MODEL_PATH: \"/path/stanford-corenlp-4.1.0\",\n",
    "        Parameter.TypeDependency.NGRAM_RANGE: (1,1)\n",
    "    }, \n",
    "}\n",
    "\n",
    "rp=RunPipeline(train_domain, test_domain, model, features, param_grid)\n",
    "grid_searches=rp.run()"
   ]
  }
 ],
 "metadata": {
  "kernelspec": {
   "display_name": "Python [conda env:thesis_py_3]",
   "language": "python",
   "name": "conda-env-thesis_py_3-py"
  },
  "language_info": {
   "codemirror_mode": {
    "name": "ipython",
    "version": 3
   },
   "file_extension": ".py",
   "mimetype": "text/x-python",
   "name": "python",
   "nbconvert_exporter": "python",
   "pygments_lexer": "ipython3",
   "version": "3.8.5"
  }
 },
 "nbformat": 4,
 "nbformat_minor": 2
}
