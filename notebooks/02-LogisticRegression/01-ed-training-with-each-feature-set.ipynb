{
 "cells": [
  {
   "cell_type": "markdown",
   "metadata": {},
   "source": [
    "### Task 5.1 Train LR on top of each feature set (by using Original data - bhocs)"
   ]
  },
  {
   "cell_type": "code",
   "execution_count": 1,
   "metadata": {},
   "outputs": [
    {
     "name": "stdout",
     "output_type": "stream",
     "text": [
      "1. Train LR on top of sentiment feature set (by using Original data - bhocs)\n"
     ]
    },
    {
     "name": "stderr",
     "output_type": "stream",
     "text": [
      "/Users/ezgidaldal/anaconda3/envs/thesis_py_3/lib/python3.8/site-packages/sklearn/metrics/_classification.py:1221: UndefinedMetricWarning: Recall and F-score are ill-defined and being set to 0.0 in labels with no true samples. Use `zero_division` parameter to control this behavior.\n",
      "  _warn_prf(average, modifier, msg_start, len(result))\n"
     ]
    },
    {
     "name": "stdout",
     "output_type": "stream",
     "text": [
      "              precision    recall  f1-score   support\n",
      "\n",
      "           0       1.00      0.56      0.72      1224\n",
      "           1       0.00      0.00      0.00         0\n",
      "\n",
      "    accuracy                           0.56      1224\n",
      "   macro avg       0.50      0.28      0.36      1224\n",
      "weighted avg       1.00      0.56      0.72      1224\n",
      "\n"
     ]
    },
    {
     "name": "stderr",
     "output_type": "stream",
     "text": [
      "/Users/ezgidaldal/anaconda3/envs/thesis_py_3/lib/python3.8/site-packages/sklearn/metrics/_classification.py:1221: UndefinedMetricWarning: Recall and F-score are ill-defined and being set to 0.0 in labels with no true samples. Use `zero_division` parameter to control this behavior.\n",
      "  _warn_prf(average, modifier, msg_start, len(result))\n"
     ]
    },
    {
     "name": "stdout",
     "output_type": "stream",
     "text": [
      "              precision    recall  f1-score   support\n",
      "\n",
      "           0       1.00      0.56      0.72      1224\n",
      "           1       0.00      0.00      0.00         0\n",
      "\n",
      "    accuracy                           0.56      1224\n",
      "   macro avg       0.50      0.28      0.36      1224\n",
      "weighted avg       1.00      0.56      0.72      1224\n",
      "\n"
     ]
    },
    {
     "name": "stderr",
     "output_type": "stream",
     "text": [
      "/Users/ezgidaldal/anaconda3/envs/thesis_py_3/lib/python3.8/site-packages/sklearn/metrics/_classification.py:1221: UndefinedMetricWarning: Recall and F-score are ill-defined and being set to 0.0 in labels with no true samples. Use `zero_division` parameter to control this behavior.\n",
      "  _warn_prf(average, modifier, msg_start, len(result))\n"
     ]
    },
    {
     "name": "stdout",
     "output_type": "stream",
     "text": [
      "              precision    recall  f1-score   support\n",
      "\n",
      "           0       1.00      0.56      0.72      1224\n",
      "           1       0.00      0.00      0.00         0\n",
      "\n",
      "    accuracy                           0.56      1224\n",
      "   macro avg       0.50      0.28      0.36      1224\n",
      "weighted avg       1.00      0.56      0.72      1224\n",
      "\n"
     ]
    },
    {
     "name": "stderr",
     "output_type": "stream",
     "text": [
      "/Users/ezgidaldal/anaconda3/envs/thesis_py_3/lib/python3.8/site-packages/sklearn/metrics/_classification.py:1221: UndefinedMetricWarning: Recall and F-score are ill-defined and being set to 0.0 in labels with no true samples. Use `zero_division` parameter to control this behavior.\n",
      "  _warn_prf(average, modifier, msg_start, len(result))\n"
     ]
    },
    {
     "name": "stdout",
     "output_type": "stream",
     "text": [
      "              precision    recall  f1-score   support\n",
      "\n",
      "           0       1.00      0.56      0.72      1224\n",
      "           1       0.00      0.00      0.00         0\n",
      "\n",
      "    accuracy                           0.56      1224\n",
      "   macro avg       0.50      0.28      0.36      1224\n",
      "weighted avg       1.00      0.56      0.72      1224\n",
      "\n"
     ]
    },
    {
     "name": "stderr",
     "output_type": "stream",
     "text": [
      "/Users/ezgidaldal/anaconda3/envs/thesis_py_3/lib/python3.8/site-packages/sklearn/metrics/_classification.py:1221: UndefinedMetricWarning: Recall and F-score are ill-defined and being set to 0.0 in labels with no true samples. Use `zero_division` parameter to control this behavior.\n",
      "  _warn_prf(average, modifier, msg_start, len(result))\n"
     ]
    },
    {
     "name": "stdout",
     "output_type": "stream",
     "text": [
      "              precision    recall  f1-score   support\n",
      "\n",
      "           0       1.00      0.56      0.72      1224\n",
      "           1       0.00      0.00      0.00         0\n",
      "\n",
      "    accuracy                           0.56      1224\n",
      "   macro avg       0.50      0.28      0.36      1224\n",
      "weighted avg       1.00      0.56      0.72      1224\n",
      "\n",
      "2. Train LR on top of ngram feature set (by using Original data - bhocs)\n",
      "              precision    recall  f1-score   support\n",
      "\n",
      "           0       0.78      0.76      0.77       709\n",
      "           1       0.68      0.71      0.69       515\n",
      "\n",
      "    accuracy                           0.74      1224\n",
      "   macro avg       0.73      0.73      0.73      1224\n",
      "weighted avg       0.74      0.74      0.74      1224\n",
      "\n",
      "              precision    recall  f1-score   support\n",
      "\n",
      "           0       0.76      0.75      0.76       700\n",
      "           1       0.68      0.69      0.68       524\n",
      "\n",
      "    accuracy                           0.73      1224\n",
      "   macro avg       0.72      0.72      0.72      1224\n",
      "weighted avg       0.73      0.73      0.73      1224\n",
      "\n",
      "              precision    recall  f1-score   support\n",
      "\n",
      "           0       0.83      0.76      0.79       749\n",
      "           1       0.67      0.75      0.71       475\n",
      "\n",
      "    accuracy                           0.76      1224\n",
      "   macro avg       0.75      0.76      0.75      1224\n",
      "weighted avg       0.77      0.76      0.76      1224\n",
      "\n",
      "              precision    recall  f1-score   support\n",
      "\n",
      "           0       0.81      0.77      0.79       731\n",
      "           1       0.68      0.74      0.71       493\n",
      "\n",
      "    accuracy                           0.75      1224\n",
      "   macro avg       0.75      0.75      0.75      1224\n",
      "weighted avg       0.76      0.75      0.76      1224\n",
      "\n",
      "              precision    recall  f1-score   support\n",
      "\n",
      "           0       0.81      0.76      0.78       736\n",
      "           1       0.67      0.73      0.70       488\n",
      "\n",
      "    accuracy                           0.75      1224\n",
      "   macro avg       0.74      0.74      0.74      1224\n",
      "weighted avg       0.75      0.75      0.75      1224\n",
      "\n"
     ]
    }
   ],
   "source": [
    "#src module\n",
    "from src.enums import *\n",
    "from src.run_pipeline import RunPipeline\n",
    "\n",
    "training_domain=Domain.BHOCS\n",
    "test_domain=Domain.BHOCS\n",
    "model=Model.LR\n",
    "\n",
    "\n",
    "print('1. Train LR on top of sentiment feature set (by using Original data - bhocs)')\n",
    "features={ Feature.SENTIMENT: { Parameter.Sentiment.SCORE_NAMES: ['neu', 'compound']} }\n",
    "rp=RunPipeline(training_domain, test_domain, model, features)\n",
    "rp.run()\n",
    "\n",
    "print('2. Train LR on top of ngram feature set (by using Original data - bhocs)')\n",
    "features={ Feature.NGRAM: { Parameter.Ngram.NGRAM_RANGE: (2,2)} }\n",
    "rp=RunPipeline(training_domain, test_domain, model, features)\n",
    "rp.run()"
   ]
  },
  {
   "cell_type": "code",
   "execution_count": 1,
   "metadata": {},
   "outputs": [
    {
     "name": "stdout",
     "output_type": "stream",
     "text": [
      "3. Train LR on top of type dependency feature set (by using Original data - bhocs)\n",
      "              precision    recall  f1-score   support\n",
      "\n",
      "           0       0.77      0.74      0.75       718\n",
      "           1       0.65      0.69      0.67       501\n",
      "\n",
      "    accuracy                           0.72      1219\n",
      "   macro avg       0.71      0.71      0.71      1219\n",
      "weighted avg       0.72      0.72      0.72      1219\n",
      "\n",
      "              precision    recall  f1-score   support\n",
      "\n",
      "           0       0.74      0.75      0.75       674\n",
      "           1       0.69      0.67      0.68       545\n",
      "\n",
      "    accuracy                           0.72      1219\n",
      "   macro avg       0.71      0.71      0.71      1219\n",
      "weighted avg       0.72      0.72      0.72      1219\n",
      "\n",
      "              precision    recall  f1-score   support\n",
      "\n",
      "           0       0.72      0.75      0.73       664\n",
      "           1       0.68      0.66      0.67       555\n",
      "\n",
      "    accuracy                           0.71      1219\n",
      "   macro avg       0.70      0.70      0.70      1219\n",
      "weighted avg       0.71      0.71      0.71      1219\n",
      "\n",
      "              precision    recall  f1-score   support\n",
      "\n",
      "           0       0.76      0.75      0.75       691\n",
      "           1       0.68      0.68      0.68       528\n",
      "\n",
      "    accuracy                           0.72      1219\n",
      "   macro avg       0.72      0.72      0.72      1219\n",
      "weighted avg       0.72      0.72      0.72      1219\n",
      "\n",
      "              precision    recall  f1-score   support\n",
      "\n",
      "           0       0.78      0.74      0.76       717\n",
      "           1       0.66      0.70      0.68       502\n",
      "\n",
      "    accuracy                           0.73      1219\n",
      "   macro avg       0.72      0.72      0.72      1219\n",
      "weighted avg       0.73      0.73      0.73      1219\n",
      "\n"
     ]
    }
   ],
   "source": [
    "#src module\n",
    "from src.enums import *\n",
    "from src.run_pipeline import RunPipeline\n",
    "\n",
    "training_domain=Domain.BHOCS\n",
    "test_domain=Domain.BHOCS\n",
    "model=Model.LR\n",
    "\n",
    "\n",
    "print('3. Train LR on top of type dependency feature set (by using Original data - bhocs)')\n",
    "features={ Feature.TYPEDEPENDENCY: {\n",
    "    Parameter.TypeDependency.MODEL_PATH: \"/path/stanford-corenlp-4.1.0\",\n",
    "    Parameter.Ngram.NGRAM_RANGE: (1,1)\n",
    "} }\n",
    "\n",
    "rp=RunPipeline(training_domain, test_domain, model, features)\n",
    "rp.run()"
   ]
  },
  {
   "cell_type": "code",
   "execution_count": null,
   "metadata": {},
   "outputs": [],
   "source": []
  }
 ],
 "metadata": {
  "kernelspec": {
   "display_name": "Python [conda env:thesis_py_3]",
   "language": "python",
   "name": "conda-env-thesis_py_3-py"
  },
  "language_info": {
   "codemirror_mode": {
    "name": "ipython",
    "version": 3
   },
   "file_extension": ".py",
   "mimetype": "text/x-python",
   "name": "python",
   "nbconvert_exporter": "python",
   "pygments_lexer": "ipython3",
   "version": "3.8.5"
  }
 },
 "nbformat": 4,
 "nbformat_minor": 2
}
