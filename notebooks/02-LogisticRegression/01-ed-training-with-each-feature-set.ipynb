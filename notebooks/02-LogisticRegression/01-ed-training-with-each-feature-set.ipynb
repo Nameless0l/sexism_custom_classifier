{
 "cells": [
  {
   "cell_type": "markdown",
   "metadata": {},
   "source": [
    "### Task 5.1 Train LR on top of each feature set (by using Original data - bhocs)"
   ]
  },
  {
   "cell_type": "markdown",
   "metadata": {},
   "source": [
    "### Imports"
   ]
  },
  {
   "cell_type": "code",
   "execution_count": 1,
   "metadata": {},
   "outputs": [],
   "source": [
    "#src module\n",
    "from src.data.prepare_data_domain import PrepareDataDomain\n",
    "from src.pipelinebuilder import PipelineBuilder\n",
    "from src.enums import Model, Domain"
   ]
  },
  {
   "cell_type": "markdown",
   "metadata": {},
   "source": [
    "### Read Preprocessed Data"
   ]
  },
  {
   "cell_type": "code",
   "execution_count": 2,
   "metadata": {},
   "outputs": [],
   "source": [
    "p = PrepareDataDomain()\n",
    "X, y = p.get_preprocessed_data(Domain.BHOCS)\n",
    "\n",
    "#Get split data dictionary that includes training and  test set. \n",
    "#Default params : \n",
    "#n_splits=5 : number of re-shuffling & splitting iterations \n",
    "#test_size=0.3 : the proportion of the dataset to include in the test split \n",
    "split_dict = p.get_n_splits(X, y)"
   ]
  },
  {
   "cell_type": "markdown",
   "metadata": {},
   "source": [
    "### 1. Train LR on top of sentiment feature set (by using Original data - bhocs)"
   ]
  },
  {
   "cell_type": "code",
   "execution_count": null,
   "metadata": {},
   "outputs": [
    {
     "name": "stderr",
     "output_type": "stream",
     "text": [
      "/Users/ezgidaldal/anaconda3/envs/thesis_py_3/lib/python3.8/site-packages/sklearn/metrics/_classification.py:1221: UndefinedMetricWarning: Recall and F-score are ill-defined and being set to 0.0 in labels with no true samples. Use `zero_division` parameter to control this behavior.\n",
      "  _warn_prf(average, modifier, msg_start, len(result))\n"
     ]
    },
    {
     "name": "stdout",
     "output_type": "stream",
     "text": [
      "              precision    recall  f1-score   support\n",
      "\n",
      "       False       1.00      0.56      0.72      1224\n",
      "        True       0.00      0.00      0.00         0\n",
      "\n",
      "    accuracy                           0.56      1224\n",
      "   macro avg       0.50      0.28      0.36      1224\n",
      "weighted avg       1.00      0.56      0.72      1224\n",
      "\n"
     ]
    }
   ],
   "source": [
    "pb = PipelineBuilder()\n",
    "pipeline = pb.get_pipeline(model=Model.LR, sentiment=True)\n",
    "pb.fit_and_predict(split_dict, pipeline)"
   ]
  },
  {
   "cell_type": "markdown",
   "metadata": {},
   "source": [
    "### 2. Train LR on top of ngram feature set (by using Original data - bhocs)"
   ]
  },
  {
   "cell_type": "code",
   "execution_count": 4,
   "metadata": {},
   "outputs": [
    {
     "name": "stdout",
     "output_type": "stream",
     "text": [
      "              precision    recall  f1-score   support\n",
      "\n",
      "       False       0.80      0.79      0.79       703\n",
      "        True       0.72      0.74      0.73       521\n",
      "\n",
      "    accuracy                           0.77      1224\n",
      "   macro avg       0.76      0.76      0.76      1224\n",
      "weighted avg       0.77      0.77      0.77      1224\n",
      "\n",
      "              precision    recall  f1-score   support\n",
      "\n",
      "       False       0.79      0.81      0.80       675\n",
      "        True       0.76      0.74      0.75       549\n",
      "\n",
      "    accuracy                           0.78      1224\n",
      "   macro avg       0.78      0.78      0.78      1224\n",
      "weighted avg       0.78      0.78      0.78      1224\n",
      "\n",
      "              precision    recall  f1-score   support\n",
      "\n",
      "       False       0.81      0.81      0.81       688\n",
      "        True       0.76      0.75      0.76       536\n",
      "\n",
      "    accuracy                           0.79      1224\n",
      "   macro avg       0.78      0.78      0.78      1224\n",
      "weighted avg       0.79      0.79      0.79      1224\n",
      "\n",
      "              precision    recall  f1-score   support\n",
      "\n",
      "       False       0.81      0.82      0.82       683\n",
      "        True       0.77      0.76      0.76       541\n",
      "\n",
      "    accuracy                           0.79      1224\n",
      "   macro avg       0.79      0.79      0.79      1224\n",
      "weighted avg       0.79      0.79      0.79      1224\n",
      "\n",
      "              precision    recall  f1-score   support\n",
      "\n",
      "       False       0.83      0.81      0.82       705\n",
      "        True       0.75      0.77      0.76       519\n",
      "\n",
      "    accuracy                           0.79      1224\n",
      "   macro avg       0.79      0.79      0.79      1224\n",
      "weighted avg       0.79      0.79      0.79      1224\n",
      "\n"
     ]
    }
   ],
   "source": [
    "pb = PipelineBuilder()\n",
    "pipeline = pb.get_pipeline(model=Model.LR, ngram = True)\n",
    "pb.fit_and_predict(split_dict, pipeline)"
   ]
  },
  {
   "cell_type": "markdown",
   "metadata": {},
   "source": [
    "### 3. Train LR on top of type dependency feature set (by using Original data - bhocs)"
   ]
  },
  {
   "cell_type": "code",
   "execution_count": null,
   "metadata": {},
   "outputs": [],
   "source": [
    "#TODO"
   ]
  },
  {
   "cell_type": "markdown",
   "metadata": {},
   "source": [
    "### 4. Train LR on top of Bert document embedding feature set (by using Original data - bhocs)"
   ]
  },
  {
   "cell_type": "code",
   "execution_count": null,
   "metadata": {},
   "outputs": [],
   "source": [
    "#TODO"
   ]
  }
 ],
 "metadata": {
  "kernelspec": {
   "display_name": "Python [conda env:thesis_py_3]",
   "language": "python",
   "name": "conda-env-thesis_py_3-py"
  },
  "language_info": {
   "codemirror_mode": {
    "name": "ipython",
    "version": 3
   },
   "file_extension": ".py",
   "mimetype": "text/x-python",
   "name": "python",
   "nbconvert_exporter": "python",
   "pygments_lexer": "ipython3",
   "version": "3.8.5"
  }
 },
 "nbformat": 4,
 "nbformat_minor": 2
}
