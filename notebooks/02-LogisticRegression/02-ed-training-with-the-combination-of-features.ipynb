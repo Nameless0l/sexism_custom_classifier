{
 "cells": [
  {
   "cell_type": "markdown",
   "metadata": {},
   "source": [
    "### Task 5.2 Train LR on top of the combination of the features (by using Original data)"
   ]
  },
  {
   "cell_type": "code",
   "execution_count": 2,
   "metadata": {},
   "outputs": [],
   "source": [
    "from src.enums import *\n",
    "from src.run_pipeline import RunPipeline\n",
    "import pandas as pd\n",
    "\n",
    "train_domain=Domain.BHOCS\n",
    "test_domain=Domain.BHOCS\n",
    "model=Model.LR\n",
    "\n",
    "param_grid = {\n",
    "    ##LR\n",
    "    'model__C': [0.001,0.01,0.1,1,10,100],\n",
    "    'model__penalty': ['l2']\n",
    "}"
   ]
  },
  {
   "cell_type": "markdown",
   "metadata": {},
   "source": [
    "#### 1. Sentiment, N-gram and Type Dependency Feature sets"
   ]
  },
  {
   "cell_type": "code",
   "execution_count": null,
   "metadata": {},
   "outputs": [
    {
     "name": "stdout",
     "output_type": "stream",
     "text": [
      "fit SelectFeatures start x.shape (2840, 4243) y.shape (2840,)\n",
      "fit SelectFeatures end == selector.support_.shape (4243,) selected features count 394\n",
      "FUNCTION: get_type_dependency_relationships TIME ELAPSED : 2.47\n",
      "FUNCTION: get_type_dependency_relationships TIME ELAPSED : 2.35\n",
      "fit SelectFeatures start x.shape (2840, 28492) y.shape (2840,)\n"
     ]
    }
   ],
   "source": [
    "features={ \n",
    "    Feature.SENTIMENT: { Parameter.Sentiment.SCORE_NAMES: ['neu', 'compound'] }, \n",
    "    Feature.NGRAM: { Parameter.Ngram.NGRAM_RANGE: (1,1) },\n",
    "    Feature.TYPEDEPENDENCY: { \n",
    "        Parameter.TypeDependency.MODEL_PATH: \"/path/stanford-corenlp-4.1.0\",\n",
    "        Parameter.TypeDependency.NGRAM_RANGE: (1,1) }\n",
    "}\n",
    "\n",
    "rp=RunPipeline(train_domain, test_domain, model, features, param_grid)\n",
    "grid_searches=rp.run()"
   ]
  }
 ],
 "metadata": {
  "kernelspec": {
   "display_name": "Python [conda env:thesis_py_3]",
   "language": "python",
   "name": "conda-env-thesis_py_3-py"
  },
  "language_info": {
   "codemirror_mode": {
    "name": "ipython",
    "version": 3
   },
   "file_extension": ".py",
   "mimetype": "text/x-python",
   "name": "python",
   "nbconvert_exporter": "python",
   "pygments_lexer": "ipython3",
   "version": "3.8.5"
  }
 },
 "nbformat": 4,
 "nbformat_minor": 2
}
