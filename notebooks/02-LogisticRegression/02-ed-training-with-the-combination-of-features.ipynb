{
 "cells": [
  {
   "cell_type": "markdown",
   "metadata": {},
   "source": [
    "### Task 5.2 Train LR on top of the combination of the features (by using Original data)"
   ]
  },
  {
   "cell_type": "code",
   "execution_count": 1,
   "metadata": {},
   "outputs": [
    {
     "name": "stdout",
     "output_type": "stream",
     "text": [
      "1. Train LR on top of sentiment and ngram feature set (by using Original data - bhocs)\n",
      "              precision    recall  f1-score   support\n",
      "\n",
      "           0       0.64      0.68      0.66       648\n",
      "           1       0.61      0.56      0.59       576\n",
      "\n",
      "    accuracy                           0.62      1224\n",
      "   macro avg       0.62      0.62      0.62      1224\n",
      "weighted avg       0.62      0.62      0.62      1224\n",
      "\n",
      "              precision    recall  f1-score   support\n",
      "\n",
      "           0       0.66      0.69      0.67       661\n",
      "           1       0.61      0.58      0.60       563\n",
      "\n",
      "    accuracy                           0.64      1224\n",
      "   macro avg       0.64      0.63      0.63      1224\n",
      "weighted avg       0.64      0.64      0.64      1224\n",
      "\n",
      "              precision    recall  f1-score   support\n",
      "\n",
      "           0       0.68      0.71      0.69       657\n",
      "           1       0.64      0.60      0.62       567\n",
      "\n",
      "    accuracy                           0.66      1224\n",
      "   macro avg       0.66      0.66      0.66      1224\n",
      "weighted avg       0.66      0.66      0.66      1224\n",
      "\n",
      "              precision    recall  f1-score   support\n",
      "\n",
      "           0       0.67      0.68      0.67       680\n",
      "           1       0.59      0.58      0.58       544\n",
      "\n",
      "    accuracy                           0.63      1224\n",
      "   macro avg       0.63      0.63      0.63      1224\n",
      "weighted avg       0.63      0.63      0.63      1224\n",
      "\n",
      "              precision    recall  f1-score   support\n",
      "\n",
      "           0       0.68      0.68      0.68       690\n",
      "           1       0.58      0.58      0.58       534\n",
      "\n",
      "    accuracy                           0.63      1224\n",
      "   macro avg       0.63      0.63      0.63      1224\n",
      "weighted avg       0.63      0.63      0.63      1224\n",
      "\n"
     ]
    }
   ],
   "source": [
    "#src module\n",
    "from src.enums import *\n",
    "from src.run_pipeline import RunPipeline\n",
    "\n",
    "print('1. Train LR on top of sentiment and ngram feature set (by using Original data - bhocs)')\n",
    "\n",
    "training_domain=Domain.BHOCSM\n",
    "test_domain=Domain.BHOCS\n",
    "model=Model.LR\n",
    "\n",
    "features={ \n",
    "    Feature.SENTIMENT: { Parameter.Sentiment.SCORE_NAMES: ['neu', 'compound'] },\n",
    "    Feature.NGRAM: { Parameter.Ngram.NGRAM_RANGE: (2,2) },\n",
    "    Feature.TYPEDEPENDENCY: { \n",
    "        Parameter.TypeDependency.MODEL_PATH: \"/path/stanford-corenlp-4.1.0\",\n",
    "        Parameter.Ngram.NGRAM_RANGE: (1,1) }\n",
    "}\n",
    "\n",
    "rp=RunPipeline(training_domain, test_domain, model, features)\n",
    "rp.run()"
   ]
  },
  {
   "cell_type": "code",
   "execution_count": null,
   "metadata": {},
   "outputs": [],
   "source": []
  }
 ],
 "metadata": {
  "kernelspec": {
   "display_name": "Python [conda env:thesis_py_3]",
   "language": "python",
   "name": "conda-env-thesis_py_3-py"
  },
  "language_info": {
   "codemirror_mode": {
    "name": "ipython",
    "version": 3
   },
   "file_extension": ".py",
   "mimetype": "text/x-python",
   "name": "python",
   "nbconvert_exporter": "python",
   "pygments_lexer": "ipython3",
   "version": "3.8.5"
  }
 },
 "nbformat": 4,
 "nbformat_minor": 2
}
